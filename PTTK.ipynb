{
 "cells": [
  {
   "cell_type": "code",
   "execution_count": 50,
   "metadata": {
    "collapsed": false
   },
   "outputs": [],
   "source": [
    "#LINEAR REGRESSION - PREDICT WEIGHT OVER HEIGHT"
   ]
  },
  {
   "cell_type": "code",
   "execution_count": 51,
   "metadata": {
    "collapsed": false
   },
   "outputs": [
    {
     "data": {
      "text/html": [
       "<ol class=list-inline>\n",
       "\t<li>10000</li>\n",
       "\t<li>5</li>\n",
       "</ol>\n"
      ],
      "text/latex": [
       "\\begin{enumerate*}\n",
       "\\item 10000\n",
       "\\item 5\n",
       "\\end{enumerate*}\n"
      ],
      "text/markdown": [
       "1. 10000\n",
       "2. 5\n",
       "\n",
       "\n"
      ],
      "text/plain": [
       "[1] 10000     5"
      ]
     },
     "metadata": {},
     "output_type": "display_data"
    }
   ],
   "source": [
    "data = read.csv(\"gender-height-weight.csv\", header=T);\n",
    "dim(data)"
   ]
  },
  {
   "cell_type": "code",
   "execution_count": 52,
   "metadata": {
    "collapsed": false
   },
   "outputs": [
    {
     "data": {
      "text/html": [
       "<table>\n",
       "<thead><tr><th scope=col>Gender</th><th scope=col>Height</th><th scope=col>Weight</th><th scope=col>Height..cm.</th><th scope=col>Weight..kg.</th></tr></thead>\n",
       "<tbody>\n",
       "\t<tr><td>Male     </td><td>73.84702 </td><td>241.8936 </td><td>187.5714 </td><td>109.72099</td></tr>\n",
       "\t<tr><td>Male     </td><td>68.78190 </td><td>162.3105 </td><td>174.7060 </td><td> 73.62273</td></tr>\n",
       "\t<tr><td>Male     </td><td>74.11011 </td><td>212.7409 </td><td>188.2397 </td><td> 96.49755</td></tr>\n",
       "\t<tr><td>Male     </td><td>71.73098 </td><td>220.0425 </td><td>182.1967 </td><td> 99.80950</td></tr>\n",
       "\t<tr><td>Male     </td><td>69.88180 </td><td>206.3498 </td><td>177.4998 </td><td> 93.59862</td></tr>\n",
       "</tbody>\n",
       "</table>\n"
      ],
      "text/latex": [
       "\\begin{tabular}{r|lllll}\n",
       " Gender & Height & Weight & Height..cm. & Weight..kg.\\\\\n",
       "\\hline\n",
       "\t Male      & 73.84702  & 241.8936  & 187.5714  & 109.72099\\\\\n",
       "\t Male      & 68.78190  & 162.3105  & 174.7060  &  73.62273\\\\\n",
       "\t Male      & 74.11011  & 212.7409  & 188.2397  &  96.49755\\\\\n",
       "\t Male      & 71.73098  & 220.0425  & 182.1967  &  99.80950\\\\\n",
       "\t Male      & 69.88180  & 206.3498  & 177.4998  &  93.59862\\\\\n",
       "\\end{tabular}\n"
      ],
      "text/plain": [
       "  Gender Height   Weight   Height..cm. Weight..kg.\n",
       "1 Male   73.84702 241.8936 187.5714    109.72099  \n",
       "2 Male   68.78190 162.3105 174.7060     73.62273  \n",
       "3 Male   74.11011 212.7409 188.2397     96.49755  \n",
       "4 Male   71.73098 220.0425 182.1967     99.80950  \n",
       "5 Male   69.88180 206.3498 177.4998     93.59862  "
      ]
     },
     "metadata": {},
     "output_type": "display_data"
    }
   ],
   "source": [
    "head(data,5)"
   ]
  },
  {
   "cell_type": "code",
   "execution_count": 53,
   "metadata": {
    "collapsed": false
   },
   "outputs": [
    {
     "data": {
      "text/html": [
       "<ol class=list-inline>\n",
       "\t<li>5000</li>\n",
       "\t<li>5</li>\n",
       "</ol>\n"
      ],
      "text/latex": [
       "\\begin{enumerate*}\n",
       "\\item 5000\n",
       "\\item 5\n",
       "\\end{enumerate*}\n"
      ],
      "text/markdown": [
       "1. 5000\n",
       "2. 5\n",
       "\n",
       "\n"
      ],
      "text/plain": [
       "[1] 5000    5"
      ]
     },
     "metadata": {},
     "output_type": "display_data"
    },
    {
     "data": {
      "text/html": [
       "<ol class=list-inline>\n",
       "\t<li>5000</li>\n",
       "\t<li>5</li>\n",
       "</ol>\n"
      ],
      "text/latex": [
       "\\begin{enumerate*}\n",
       "\\item 5000\n",
       "\\item 5\n",
       "\\end{enumerate*}\n"
      ],
      "text/markdown": [
       "1. 5000\n",
       "2. 5\n",
       "\n",
       "\n"
      ],
      "text/plain": [
       "[1] 5000    5"
      ]
     },
     "metadata": {},
     "output_type": "display_data"
    }
   ],
   "source": [
    "#split train and test\n",
    "training = data[seq(1, nrow(data), 2), ]\n",
    "verification = data[seq(2, nrow(data), 2), ]\n",
    "dim(training)\n",
    "dim(verification)"
   ]
  },
  {
   "cell_type": "code",
   "execution_count": 54,
   "metadata": {
    "collapsed": true
   },
   "outputs": [],
   "source": [
    "#split feature and value to predict\n",
    "training_weight = training[,5]\n",
    "training_height = training[,4]\n",
    "verification_weight = verification[,5]\n",
    "verification_height = verification[,4]"
   ]
  },
  {
   "cell_type": "code",
   "execution_count": 55,
   "metadata": {
    "collapsed": false
   },
   "outputs": [
    {
     "data": {
      "text/plain": [
       "\n",
       "Call:\n",
       "lm(formula = training_weight ~ training_height)\n",
       "\n",
       "Coefficients:\n",
       "    (Intercept)  training_height  \n",
       "       -158.101            1.372  \n"
      ]
     },
     "metadata": {},
     "output_type": "display_data"
    }
   ],
   "source": [
    "#fit model\n",
    "fit = lm(training_weight~training_height)\n",
    "fit"
   ]
  },
  {
   "cell_type": "code",
   "execution_count": 56,
   "metadata": {
    "collapsed": false
   },
   "outputs": [
    {
     "data": {
      "image/png": "[encoded data removed]",
      "text/plain": [
       "plot without title"
      ]
     },
     "metadata": {},
     "output_type": "display_data"
    }
   ],
   "source": [
    "plot(training_height, training_weight, col='blue',xlab='height (cm)',ylab='weight (kg)')\n",
    "abline(fit,col='red')"
   ]
  },
  {
   "cell_type": "code",
   "execution_count": 57,
   "metadata": {
    "collapsed": false
   },
   "outputs": [
    {
     "data": {
      "text/html": [
       "5.54016220795237"
      ],
      "text/latex": [
       "5.54016220795237"
      ],
      "text/markdown": [
       "5.54016220795237"
      ],
      "text/plain": [
       "[1] 5.540162"
      ]
     },
     "metadata": {},
     "output_type": "display_data"
    }
   ],
   "source": [
    "#std of training data\n",
    "pred_weight = predict(fit,data.frame(training_height))\n",
    "std <- sqrt(sum((pred_weight-training_weight)^2)/length(pred_weight))\n",
    "std"
   ]
  },
  {
   "cell_type": "code",
   "execution_count": 58,
   "metadata": {
    "collapsed": false
   },
   "outputs": [
    {
     "data": {
      "image/png": "[encoded data removed]",
      "text/plain": [
       "plot without title"
      ]
     },
     "metadata": {},
     "output_type": "display_data"
    }
   ],
   "source": [
    "plot(verification_height, verification_weight, col='blue',xlab='height (cm)',ylab='weight (kg)')\n",
    "abline(fit,col='red')"
   ]
  },
  {
   "cell_type": "code",
   "execution_count": 59,
   "metadata": {
    "collapsed": false
   },
   "outputs": [
    {
     "data": {
      "text/html": [
       "13.1817283326733"
      ],
      "text/latex": [
       "13.1817283326733"
      ],
      "text/markdown": [
       "13.1817283326733"
      ],
      "text/plain": [
       "[1] 13.18173"
      ]
     },
     "metadata": {},
     "output_type": "display_data"
    }
   ],
   "source": [
    "#std of testing data\n",
    "pred_weight = predict(fit,data.frame(verification_height))\n",
    "std <- sqrt(sum((pred_weight-verification_weight)^2)/length(pred_weight))\n",
    "std"
   ]
  },
  {
   "cell_type": "code",
   "execution_count": 60,
   "metadata": {
    "collapsed": true
   },
   "outputs": [],
   "source": [
    "#NHIS 2007 DATASET - National Health Interview Survey\n",
    "#https://www.cdc.gov/nchs/nhis/nhis_2007_data_release.htm"
   ]
  },
  {
   "cell_type": "code",
   "execution_count": 61,
   "metadata": {
    "collapsed": false
   },
   "outputs": [
    {
     "data": {
      "text/html": [
       "<ol class=list-inline>\n",
       "\t<li>4785</li>\n",
       "\t<li>9</li>\n",
       "</ol>\n"
      ],
      "text/latex": [
       "\\begin{enumerate*}\n",
       "\\item 4785\n",
       "\\item 9\n",
       "\\end{enumerate*}\n"
      ],
      "text/markdown": [
       "1. 4785\n",
       "2. 9\n",
       "\n",
       "\n"
      ],
      "text/plain": [
       "[1] 4785    9"
      ]
     },
     "metadata": {},
     "output_type": "display_data"
    }
   ],
   "source": [
    "data = read.csv(\"NHIS 2007 data.csv\", header=T);\n",
    "dim(data)"
   ]
  },
  {
   "cell_type": "code",
   "execution_count": 62,
   "metadata": {
    "collapsed": false
   },
   "outputs": [
    {
     "data": {
      "text/html": [
       "<table>\n",
       "<thead><tr><th scope=col>HHX</th><th scope=col>FMX</th><th scope=col>FPX</th><th scope=col>SEX</th><th scope=col>BMI</th><th scope=col>SLEEP</th><th scope=col>educ</th><th scope=col>height</th><th scope=col>weight</th></tr></thead>\n",
       "<tbody>\n",
       "\t<tr><td>16   </td><td>1    </td><td>2    </td><td>1    </td><td>33.36</td><td>8    </td><td>16   </td><td>74   </td><td>260  </td></tr>\n",
       "\t<tr><td>20   </td><td>1    </td><td>1    </td><td>1    </td><td>26.54</td><td>7    </td><td>14   </td><td>70   </td><td>185  </td></tr>\n",
       "\t<tr><td>69   </td><td>1    </td><td>2    </td><td>2    </td><td>32.13</td><td>7    </td><td> 9   </td><td>61   </td><td>170  </td></tr>\n",
       "\t<tr><td>87   </td><td>1    </td><td>1    </td><td>1    </td><td>26.62</td><td>8    </td><td>14   </td><td>68   </td><td>175  </td></tr>\n",
       "\t<tr><td>88   </td><td>1    </td><td>1    </td><td>2    </td><td>27.13</td><td>8    </td><td>13   </td><td>66   </td><td>168  </td></tr>\n",
       "</tbody>\n",
       "</table>\n"
      ],
      "text/latex": [
       "\\begin{tabular}{r|lllllllll}\n",
       " HHX & FMX & FPX & SEX & BMI & SLEEP & educ & height & weight\\\\\n",
       "\\hline\n",
       "\t 16    & 1     & 2     & 1     & 33.36 & 8     & 16    & 74    & 260  \\\\\n",
       "\t 20    & 1     & 1     & 1     & 26.54 & 7     & 14    & 70    & 185  \\\\\n",
       "\t 69    & 1     & 2     & 2     & 32.13 & 7     &  9    & 61    & 170  \\\\\n",
       "\t 87    & 1     & 1     & 1     & 26.62 & 8     & 14    & 68    & 175  \\\\\n",
       "\t 88    & 1     & 1     & 2     & 27.13 & 8     & 13    & 66    & 168  \\\\\n",
       "\\end{tabular}\n"
      ],
      "text/plain": [
       "  HHX FMX FPX SEX BMI   SLEEP educ height weight\n",
       "1 16  1   2   1   33.36 8     16   74     260   \n",
       "2 20  1   1   1   26.54 7     14   70     185   \n",
       "3 69  1   2   2   32.13 7      9   61     170   \n",
       "4 87  1   1   1   26.62 8     14   68     175   \n",
       "5 88  1   1   2   27.13 8     13   66     168   "
      ]
     },
     "metadata": {},
     "output_type": "display_data"
    }
   ],
   "source": [
    "head(data,5)\n",
    "#HHX\n",
    "#FMX\n",
    "#SEX\n",
    "#BMI\n",
    "#SLEEP\n",
    "#educ\n",
    "#height\n",
    "#weight"
   ]
  },
  {
   "cell_type": "code",
   "execution_count": 64,
   "metadata": {
    "collapsed": false
   },
   "outputs": [
    {
     "data": {
      "text/html": [
       "<ol class=list-inline>\n",
       "\t<li>2393</li>\n",
       "\t<li>9</li>\n",
       "</ol>\n"
      ],
      "text/latex": [
       "\\begin{enumerate*}\n",
       "\\item 2393\n",
       "\\item 9\n",
       "\\end{enumerate*}\n"
      ],
      "text/markdown": [
       "1. 2393\n",
       "2. 9\n",
       "\n",
       "\n"
      ],
      "text/plain": [
       "[1] 2393    9"
      ]
     },
     "metadata": {},
     "output_type": "display_data"
    },
    {
     "data": {
      "text/html": [
       "<ol class=list-inline>\n",
       "\t<li>2392</li>\n",
       "\t<li>9</li>\n",
       "</ol>\n"
      ],
      "text/latex": [
       "\\begin{enumerate*}\n",
       "\\item 2392\n",
       "\\item 9\n",
       "\\end{enumerate*}\n"
      ],
      "text/markdown": [
       "1. 2392\n",
       "2. 9\n",
       "\n",
       "\n"
      ],
      "text/plain": [
       "[1] 2392    9"
      ]
     },
     "metadata": {},
     "output_type": "display_data"
    }
   ],
   "source": [
    "#split train and test\n",
    "training = data[seq(1, nrow(data), 2), ]\n",
    "verification = data[seq(2, nrow(data), 2), ]\n",
    "dim(training)\n",
    "dim(verification)"
   ]
  },
  {
   "cell_type": "code",
   "execution_count": 74,
   "metadata": {
    "collapsed": false
   },
   "outputs": [],
   "source": [
    "#split feature and value to predict\n",
    "training_weight = training[,c(\"weight\")]\n",
    "training_feature = training[,c(\"SEX\",\"SLEEP\",\"height\")]\n",
    "verification_weight = verification[,c(\"weight\")]\n",
    "verification_height = verification[,c(\"SEX\",\"SLEEP\",\"height\")]"
   ]
  },
  {
   "cell_type": "code",
   "execution_count": 75,
   "metadata": {
    "collapsed": false
   },
   "outputs": [
    {
     "data": {
      "text/plain": [
       "\n",
       "Call:\n",
       "lm(formula = training_weight ~ training_feature$SEX + training_feature$SLEEP + \n",
       "    training_feature$height)\n",
       "\n",
       "Coefficients:\n",
       "            (Intercept)     training_feature$SEX   training_feature$SLEEP  \n",
       "              -1484.080                  104.952                    1.254  \n",
       "training_feature$height  \n",
       "                 22.600  \n"
      ]
     },
     "metadata": {},
     "output_type": "display_data"
    }
   ],
   "source": [
    "#fit model\n",
    "fit = lm(training_weight~training_feature$SEX + training_feature$SLEEP + training_feature$height)\n",
    "fit"
   ]
  },
  {
   "cell_type": "code",
   "execution_count": null,
   "metadata": {
    "collapsed": true
   },
   "outputs": [],
   "source": []
  }
 ],
 "metadata": {
  "kernelspec": {
   "display_name": "R",
   "language": "R",
   "name": "ir"
  },
  "language_info": {
   "codemirror_mode": "r",
   "file_extension": ".r",
   "mimetype": "text/x-r-source",
   "name": "R",
   "pygments_lexer": "r",
   "version": "3.2.3"
  }
 },
 "nbformat": 4,
 "nbformat_minor": 2
}
